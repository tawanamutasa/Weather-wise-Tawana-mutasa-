{
  "nbformat": 4,
  "nbformat_minor": 0,
  "metadata": {
    "colab": {
      "provenance": [],
      "authorship_tag": "ABX9TyPCvjjkLgZWctG0pSSSSG/e",
      "include_colab_link": true
    },
    "kernelspec": {
      "name": "python3",
      "display_name": "Python 3"
    },
    "language_info": {
      "name": "python"
    }
  },
  "cells": [
    {
      "cell_type": "markdown",
      "metadata": {
        "id": "view-in-github",
        "colab_type": "text"
      },
      "source": [
        "<a href=\"https://colab.research.google.com/github/tawanamutasa/Weather-wise-Tawana-mutasa-/blob/main/Weatherwise_Tawana.ipynb\" target=\"_parent\"><img src=\"https://colab.research.google.com/assets/colab-badge.svg\" alt=\"Open In Colab\"/></a>"
      ]
    },
    {
      "cell_type": "markdown",
      "source": [
        "# **Weather Wise App **"
      ],
      "metadata": {
        "id": "7iGR2iSjlSHQ"
      }
    },
    {
      "cell_type": "code",
      "source": [
        "!pip install pyinputplus\n",
        "import requests\n",
        "import pyinputplus as pyip\n",
        "import matplotlib.pyplot as plt\n",
        "from datetime import datetime\n",
        "from geopy.geocoders import Nominatim\n",
        "import ipywidgets as widgets\n",
        "from IPython.display import display, clear_output\n"
      ],
      "metadata": {
        "id": "_fOPvngOlb5E"
      },
      "execution_count": null,
      "outputs": []
    },
    {
      "cell_type": "code",
      "source": [
        "def get_coordinates(city_name):\n",
        "    geolocator = Nominatim(user_agent=\"weather_app\")\n",
        "    location = geolocator.geocode(city_name)\n",
        "    if location:\n",
        "        return location.latitude, location.longitude\n",
        "    else:\n",
        "        raise ValueError(\"Location not found.\")"
      ],
      "metadata": {
        "id": "-8LYptlbnWT6"
      },
      "execution_count": null,
      "outputs": []
    },
    {
      "cell_type": "code",
      "source": [
        "def get_weather_forecast(lat, lon):\n",
        "    url = (\n",
        "        f\"https://api.open-meteo.com/v1/forecast?\"\n",
        "        f\"latitude={lat}&longitude={lon}\"\n",
        "        f\"&hourly=temperature_2m,precipitation_probability\"\n",
        "        f\"&timezone=auto\"\n",
        "    )\n",
        "    response = requests.get(url)\n",
        "    return response.json()"
      ],
      "metadata": {
        "id": "BaTodKgNrbsU"
      },
      "execution_count": null,
      "outputs": []
    },
    {
      "cell_type": "code",
      "source": [
        "def get_weather_data(city_name, forecast_days=5):\n",
        "    \"\"\"\n",
        "    Retrieve weather data for a specified location.\n",
        "\n",
        "    Args:\n",
        "        location (str): City or location name\n",
        "        forecast_days (int): Number of days to forecast (1-5)\n",
        "\n",
        "    Returns:\n",
        "        dict: Weather data including hourly forecast for temperature and precipitation\n",
        "    \"\"\"\n",
        "    if not (1 <= forecast_days <= 5):\n",
        "        raise ValueError(\"forecast_days must be between 1 and 5\")\n",
        "\n",
        "    # Get coordinates\n",
        "    lat, lon = get_coordinates(city_name)\n",
        "\n",
        "    # Build Open-Meteo API URL\n",
        "    url = (\n",
        "        f\"https://api.open-meteo.com/v1/forecast?\"\n",
        "        f\"latitude={lat}&longitude={lon}\"\n",
        "        f\"&hourly=temperature_2m,precipitation_probability\"\n",
        "        f\"&forecast_days={forecast_days}\"\n",
        "        f\"&timezone=auto\"\n",
        "    )\n",
        "\n",
        "    # Fetch data\n",
        "    response = requests.get(url)\n",
        "    if response.status_code != 200:\n",
        "        raise Exception(f\"Failed to retrieve data: {response.status_code}\")\n",
        "\n",
        "    return response.json()"
      ],
      "metadata": {
        "id": "ntKV3GENsNYm"
      },
      "execution_count": null,
      "outputs": []
    },
    {
      "cell_type": "code",
      "source": [
        "def create_temperature_visualisation(weather_data, output_type='display', city=None):\n",
        "    \"\"\"\n",
        "    Create visualisation of temperature data.\n",
        "\n",
        "    Args:\n",
        "        weather_data (dict): The processed weather data (output of get_weather_forecast)\n",
        "        output_type (str): 'display' to show plot, 'figure' to return the figure\n",
        "        city (str): Optional city name for the plot title\n",
        "\n",
        "    Returns:\n",
        "        matplotlib.figure.Figure or None\n",
        "    \"\"\"\n",
        "    # Extract time and temperature data\n",
        "    times_str = weather_data['hourly']['time']\n",
        "    temps = weather_data['hourly']['temperature_2m']\n",
        "\n",
        "    # Convert time strings to datetime objects for better x-axis formatting\n",
        "    time_objects = [datetime.fromisoformat(t) for t in times_str]\n",
        "\n",
        "    # Create figure and plot\n",
        "    fig, ax = plt.subplots(figsize=(12, 5))\n",
        "    ax.plot(time_objects, temps, label=\"Temperature (°C)\", color='tab:red')\n",
        "    ax.set_xlabel(\"Date & Time\")\n",
        "    ax.set_ylabel(\"Temperature (°C)\")\n",
        "\n",
        "    title = f\"Hourly Temperature Forecast\"\n",
        "    if city:\n",
        "        title += f\" for {city}\"\n",
        "    ax.set_title(title)\n",
        "\n",
        "    plt.xticks(rotation=45)\n",
        "    plt.grid(True)\n",
        "    plt.tight_layout()\n",
        "    ax.legend()\n",
        "\n",
        "    if output_type == 'figure':\n",
        "        return fig\n",
        "    else:\n",
        "        plt.show()\n",
        "        return None"
      ],
      "metadata": {
        "id": "19Oy5dVBsjYV"
      },
      "execution_count": null,
      "outputs": []
    },
    {
      "cell_type": "code",
      "source": [
        "def create_precipitation_visualisation(weather_data, output_type='display', city=None):\n",
        "    \"\"\"\n",
        "    Create visualisation of precipitation data.\n",
        "\n",
        "    Args:\n",
        "        weather_data (dict): The processed weather data\n",
        "        output_type (str): Either 'display' to show in notebook or 'figure' to return the figure\n",
        "        city (str): Optional city name for the plot title\n",
        "\n",
        "    Returns:\n",
        "        If output_type is 'figure', returns the matplotlib figure object\n",
        "        Otherwise, displays the visualisation in the notebook\n",
        "    \"\"\"\n",
        "    # Extract time and precipitation probability data\n",
        "    times_str = weather_data['hourly']['time']\n",
        "    rain_probs = weather_data['hourly']['precipitation_probability']\n",
        "\n",
        "    # Convert time strings to datetime objects\n",
        "    time_objects = [datetime.fromisoformat(t) for t in times_str]\n",
        "\n",
        "    # Create figure and plot\n",
        "    fig, ax = plt.subplots(figsize=(12, 5))\n",
        "    ax.plot(time_objects, rain_probs, label=\"Rain Chance (%)\", color='tab:blue')\n",
        "    ax.set_xlabel(\"Date & Time\")\n",
        "    ax.set_ylabel(\"Precipitation Probability (%)\")\n",
        "\n",
        "    # Set title\n",
        "    title = \"Hourly Rain Forecast\"\n",
        "    if city:\n",
        "        title += f\" for {city}\"\n",
        "    ax.set_title(title)\n",
        "\n",
        "    # Final plot formatting\n",
        "    plt.xticks(rotation=45)\n",
        "    plt.grid(True)\n",
        "    plt.tight_layout()\n",
        "    ax.legend()\n",
        "\n",
        "    # Output\n",
        "    if output_type == 'figure':\n",
        "        return fig\n",
        "    else:\n",
        "        plt.show()\n",
        "        return None"
      ],
      "metadata": {
        "id": "Vt2vBUwes8-D"
      },
      "execution_count": null,
      "outputs": []
    },
    {
      "cell_type": "code",
      "source": [
        "city = input(\"Enter a city: \")\n",
        "\n",
        "try:\n",
        "    lat, lon = get_coordinates(city)  # existing function to get lat/lon\n",
        "    weather_data = get_weather_forecast(lat, lon)\n",
        "    print(f\"Coordinates for {city}: {lat:.2f}, {lon:.2f}\")\n",
        "\n",
        "    # Display returned data\n",
        "    weather_data = get_weather_data(\"London\", forecast_days=3)\n",
        "    create_temperature_visualisation(weather_data, output_type='display', city=city)\n",
        "    create_precipitation_visualisation(weather_data, output_type='display', city=city)\n",
        "\n",
        "except ValueError as e:\n",
        "    print(str(e))"
      ],
      "metadata": {
        "id": "t0ooa8oMtNUv"
      },
      "execution_count": null,
      "outputs": []
    },
    {
      "cell_type": "code",
      "source": [
        "def widgets_ui():\n",
        "    # Input widgets\n",
        "    city_input = widgets.Text(description='City:', placeholder='e.g. London')\n",
        "    submit_button = widgets.Button(description='Get Forecast', button_style='info')\n",
        "    output = widgets.Output()\n",
        "\n",
        "    # Handle submit button click\n",
        "    def on_submit(b):\n",
        "        with output:\n",
        "            clear_output()\n",
        "            location = city_input.value.strip()\n",
        "\n",
        "            if not location:\n",
        "                print(\"⚠️ Please enter a valid city.\")\n",
        "                return\n",
        "\n",
        "            try:\n",
        "                weather_data = get_weather_data(location)\n",
        "\n",
        "                print(f\"📍 Forecast for: {location}\")\n",
        "\n",
        "                # Weather view menu\n",
        "                menu = widgets.ToggleButtons(\n",
        "                    options=['Current Weather', 'Temperature Forecast', 'Precipitation Forecast'],\n",
        "                    description='View:',\n",
        "                    button_style='primary'\n",
        "                )\n",
        "\n",
        "                def on_choice(change):\n",
        "                    clear_output(wait=True)\n",
        "                    print(f\"📍 Forecast for: {location}\\n\")\n",
        "\n",
        "                    if change['new'] == 'Current Weather':\n",
        "                        current = weather_data['current_weather']\n",
        "                        print(f\"🌤 Current Weather\")\n",
        "                        print(f\"Temperature: {current['temperature']}°C\")\n",
        "                        print(f\"Windspeed: {current['windspeed']} km/h\")\n",
        "                        print(f\"Time: {current['time']}\")\n",
        "\n",
        "                    elif change['new'] == 'Temperature Forecast':\n",
        "                        create_temperature_visualisation(weather_data, city=location)\n",
        "\n",
        "                    elif change['new'] == 'Precipitation Forecast':\n",
        "                        create_precipitation_visualisation(weather_data, city=location)\n",
        "\n",
        "                menu.observe(on_choice, names='value')\n",
        "                display(menu)\n",
        "\n",
        "            except Exception as e:\n",
        "                print(\"⚠️ Error getting weather data:\", e)\n",
        "\n",
        "    # Bind click event\n",
        "    submit_button.on_click(on_submit)\n",
        "\n",
        "    # Display input and output\n",
        "    display(widgets.VBox([city_input, submit_button, output]))\n",
        "\n",
        "#Activate the interface\n",
        "widgets_ui()\n",
        "\n",
        "\n",
        "\n"
      ],
      "metadata": {
        "id": "xQq-MmYWyeLG"
      },
      "execution_count": null,
      "outputs": []
    }
  ]
}