{
  "nbformat": 4,
  "nbformat_minor": 0,
  "metadata": {
    "colab": {
      "provenance": [],
      "authorship_tag": "ABX9TyOV3xEeUiRb2OVY8KF9A/ne",
      "include_colab_link": true
    },
    "kernelspec": {
      "name": "python3",
      "display_name": "Python 3"
    },
    "language_info": {
      "name": "python"
    }
  },
  "cells": [
    {
      "cell_type": "markdown",
      "metadata": {
        "id": "view-in-github",
        "colab_type": "text"
      },
      "source": [
        "<a href=\"https://colab.research.google.com/github/tawanamutasa/Weather-wise-Tawana-mutasa-/blob/main/Weatherwise_Tawana.ipynb\" target=\"_parent\"><img src=\"https://colab.research.google.com/assets/colab-badge.svg\" alt=\"Open In Colab\"/></a>"
      ]
    },
    {
      "cell_type": "markdown",
      "source": [
        "# **Weather Wise App **"
      ],
      "metadata": {
        "id": "7iGR2iSjlSHQ"
      }
    },
    {
      "cell_type": "code",
      "source": [
        "import requests\n",
        "import matplotlib.pyplot as plt\n",
        "from datetime import datetime\n",
        "from geopy.geocoders import Nominatim"
      ],
      "metadata": {
        "id": "_fOPvngOlb5E"
      },
      "execution_count": 5,
      "outputs": []
    },
    {
      "cell_type": "code",
      "source": [
        "def get_coordinates(city_name):\n",
        "    geolocator = Nominatim(user_agent=\"weather_app\")\n",
        "    location = geolocator.geocode(city_name)\n",
        "    if location:\n",
        "        return location.latitude, location.longitude\n",
        "    else:\n",
        "        raise ValueError(\"Location not found.\")"
      ],
      "metadata": {
        "id": "-8LYptlbnWT6"
      },
      "execution_count": 6,
      "outputs": []
    },
    {
      "cell_type": "code",
      "source": [
        "def get_weather_forecast(lat, lon):\n",
        "    url = (\n",
        "        f\"https://api.open-meteo.com/v1/forecast?\"\n",
        "        f\"latitude={lat}&longitude={lon}\"\n",
        "        f\"&hourly=temperature_2m,precipitation_probability\"\n",
        "        f\"&timezone=auto\"\n",
        "    )\n",
        "    response = requests.get(url)\n",
        "    return response.json()"
      ],
      "metadata": {
        "id": "BaTodKgNrbsU"
      },
      "execution_count": 11,
      "outputs": []
    }
  ]
}